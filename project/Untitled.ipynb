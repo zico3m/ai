{
 "cells": [
  {
   "cell_type": "code",
   "execution_count": 1,
   "id": "71911a08",
   "metadata": {},
   "outputs": [],
   "source": [
    "import pandas as pd\n",
    "import matplotlib.pyplot as plt\n",
    "import seaborn as sns"
   ]
  },
  {
   "cell_type": "code",
   "execution_count": 3,
   "id": "fb9b7786",
   "metadata": {},
   "outputs": [],
   "source": [
    "users = pd.read_csv(\"users (2).csv\")\n",
    "articles = pd.read_csv(\"articles.csv\")\n",
    "news = pd.read_csv(\"news (1).csv\")\n",
    "interactions = pd.read_csv(\"interactions (1).csv\")\n",
    "comments = pd.read_csv(\"comments (1).csv\")"
   ]
  },
  {
   "cell_type": "code",
   "execution_count": 94,
   "id": "c38112d2",
   "metadata": {
    "collapsed": true
   },
   "outputs": [
    {
     "data": {
      "text/html": [
       "<div>\n",
       "<style scoped>\n",
       "    .dataframe tbody tr th:only-of-type {\n",
       "        vertical-align: middle;\n",
       "    }\n",
       "\n",
       "    .dataframe tbody tr th {\n",
       "        vertical-align: top;\n",
       "    }\n",
       "\n",
       "    .dataframe thead th {\n",
       "        text-align: right;\n",
       "    }\n",
       "</style>\n",
       "<table border=\"1\" class=\"dataframe\">\n",
       "  <thead>\n",
       "    <tr style=\"text-align: right;\">\n",
       "      <th></th>\n",
       "      <th>user_id</th>\n",
       "      <th>username</th>\n",
       "      <th>email</th>\n",
       "      <th>registration_date</th>\n",
       "      <th>role</th>\n",
       "    </tr>\n",
       "  </thead>\n",
       "  <tbody>\n",
       "    <tr>\n",
       "      <th>0</th>\n",
       "      <td>U00001</td>\n",
       "      <td>ليلى الرشيدي</td>\n",
       "      <td>user1_783@example.com</td>\n",
       "      <td>2024-04-03</td>\n",
       "      <td>writer</td>\n",
       "    </tr>\n",
       "    <tr>\n",
       "      <th>1</th>\n",
       "      <td>U00002</td>\n",
       "      <td>زينب الرشيدي</td>\n",
       "      <td>user2_230@example.com</td>\n",
       "      <td>2024-04-29</td>\n",
       "      <td>writer</td>\n",
       "    </tr>\n",
       "    <tr>\n",
       "      <th>2</th>\n",
       "      <td>U00003</td>\n",
       "      <td>خالد الرشيدي</td>\n",
       "      <td>user3_186@example.com</td>\n",
       "      <td>2024-01-29</td>\n",
       "      <td>writer</td>\n",
       "    </tr>\n",
       "    <tr>\n",
       "      <th>3</th>\n",
       "      <td>U00004</td>\n",
       "      <td>هدى القحطاني</td>\n",
       "      <td>user4_858@example.com</td>\n",
       "      <td>2024-04-09</td>\n",
       "      <td>writer</td>\n",
       "    </tr>\n",
       "    <tr>\n",
       "      <th>4</th>\n",
       "      <td>U00005</td>\n",
       "      <td>أحمد الغامدي</td>\n",
       "      <td>user5_567@example.com</td>\n",
       "      <td>2024-08-14</td>\n",
       "      <td>writer</td>\n",
       "    </tr>\n",
       "    <tr>\n",
       "      <th>5</th>\n",
       "      <td>U00006</td>\n",
       "      <td>زينب العنزي</td>\n",
       "      <td>user6_340@example.com</td>\n",
       "      <td>2024-02-04</td>\n",
       "      <td>writer</td>\n",
       "    </tr>\n",
       "    <tr>\n",
       "      <th>6</th>\n",
       "      <td>U00007</td>\n",
       "      <td>يوسف العتيبي</td>\n",
       "      <td>user7_696@example.com</td>\n",
       "      <td>2024-03-12</td>\n",
       "      <td>writer</td>\n",
       "    </tr>\n",
       "    <tr>\n",
       "      <th>7</th>\n",
       "      <td>U00008</td>\n",
       "      <td>عبدالله المطيري</td>\n",
       "      <td>user8_389@example.com</td>\n",
       "      <td>2024-02-06</td>\n",
       "      <td>writer</td>\n",
       "    </tr>\n",
       "    <tr>\n",
       "      <th>8</th>\n",
       "      <td>U00009</td>\n",
       "      <td>هدى القرني</td>\n",
       "      <td>user9_668@example.com</td>\n",
       "      <td>2024-05-30</td>\n",
       "      <td>writer</td>\n",
       "    </tr>\n",
       "    <tr>\n",
       "      <th>9</th>\n",
       "      <td>U00010</td>\n",
       "      <td>ريم المطيري</td>\n",
       "      <td>user10_460@example.com</td>\n",
       "      <td>2024-02-15</td>\n",
       "      <td>writer</td>\n",
       "    </tr>\n",
       "    <tr>\n",
       "      <th>10</th>\n",
       "      <td>U00011</td>\n",
       "      <td>مريم الشهري</td>\n",
       "      <td>user11_150@example.com</td>\n",
       "      <td>2024-07-06</td>\n",
       "      <td>writer</td>\n",
       "    </tr>\n",
       "    <tr>\n",
       "      <th>11</th>\n",
       "      <td>U00012</td>\n",
       "      <td>زينب العنزي</td>\n",
       "      <td>user12_608@example.com</td>\n",
       "      <td>2024-07-20</td>\n",
       "      <td>writer</td>\n",
       "    </tr>\n",
       "    <tr>\n",
       "      <th>12</th>\n",
       "      <td>U00013</td>\n",
       "      <td>عبدالله العتيبي</td>\n",
       "      <td>user13_819@example.com</td>\n",
       "      <td>2024-02-07</td>\n",
       "      <td>writer</td>\n",
       "    </tr>\n",
       "    <tr>\n",
       "      <th>13</th>\n",
       "      <td>U00014</td>\n",
       "      <td>حسن الدوسري</td>\n",
       "      <td>user14_901@example.com</td>\n",
       "      <td>2024-08-12</td>\n",
       "      <td>writer</td>\n",
       "    </tr>\n",
       "    <tr>\n",
       "      <th>14</th>\n",
       "      <td>U00015</td>\n",
       "      <td>محمد البلوي</td>\n",
       "      <td>user15_472@example.com</td>\n",
       "      <td>2024-05-11</td>\n",
       "      <td>writer</td>\n",
       "    </tr>\n",
       "    <tr>\n",
       "      <th>15</th>\n",
       "      <td>U00016</td>\n",
       "      <td>عبدالله الشهري</td>\n",
       "      <td>user16_276@example.com</td>\n",
       "      <td>2024-01-25</td>\n",
       "      <td>writer</td>\n",
       "    </tr>\n",
       "    <tr>\n",
       "      <th>16</th>\n",
       "      <td>U00017</td>\n",
       "      <td>هدى الشهري</td>\n",
       "      <td>user17_587@example.com</td>\n",
       "      <td>2024-06-15</td>\n",
       "      <td>writer</td>\n",
       "    </tr>\n",
       "    <tr>\n",
       "      <th>17</th>\n",
       "      <td>U00018</td>\n",
       "      <td>ريم القرني</td>\n",
       "      <td>user18_729@example.com</td>\n",
       "      <td>2024-04-09</td>\n",
       "      <td>writer</td>\n",
       "    </tr>\n",
       "    <tr>\n",
       "      <th>18</th>\n",
       "      <td>U00019</td>\n",
       "      <td>يوسف الجهني</td>\n",
       "      <td>user19_679@example.com</td>\n",
       "      <td>2024-06-10</td>\n",
       "      <td>writer</td>\n",
       "    </tr>\n",
       "    <tr>\n",
       "      <th>19</th>\n",
       "      <td>U00020</td>\n",
       "      <td>يوسف الغامدي</td>\n",
       "      <td>user20_545@example.com</td>\n",
       "      <td>2024-05-07</td>\n",
       "      <td>writer</td>\n",
       "    </tr>\n",
       "  </tbody>\n",
       "</table>\n",
       "</div>"
      ],
      "text/plain": [
       "   user_id         username                   email registration_date    role\n",
       "0   U00001     ليلى الرشيدي   user1_783@example.com        2024-04-03  writer\n",
       "1   U00002     زينب الرشيدي   user2_230@example.com        2024-04-29  writer\n",
       "2   U00003     خالد الرشيدي   user3_186@example.com        2024-01-29  writer\n",
       "3   U00004     هدى القحطاني   user4_858@example.com        2024-04-09  writer\n",
       "4   U00005     أحمد الغامدي   user5_567@example.com        2024-08-14  writer\n",
       "5   U00006      زينب العنزي   user6_340@example.com        2024-02-04  writer\n",
       "6   U00007     يوسف العتيبي   user7_696@example.com        2024-03-12  writer\n",
       "7   U00008  عبدالله المطيري   user8_389@example.com        2024-02-06  writer\n",
       "8   U00009       هدى القرني   user9_668@example.com        2024-05-30  writer\n",
       "9   U00010      ريم المطيري  user10_460@example.com        2024-02-15  writer\n",
       "10  U00011      مريم الشهري  user11_150@example.com        2024-07-06  writer\n",
       "11  U00012      زينب العنزي  user12_608@example.com        2024-07-20  writer\n",
       "12  U00013  عبدالله العتيبي  user13_819@example.com        2024-02-07  writer\n",
       "13  U00014      حسن الدوسري  user14_901@example.com        2024-08-12  writer\n",
       "14  U00015      محمد البلوي  user15_472@example.com        2024-05-11  writer\n",
       "15  U00016   عبدالله الشهري  user16_276@example.com        2024-01-25  writer\n",
       "16  U00017       هدى الشهري  user17_587@example.com        2024-06-15  writer\n",
       "17  U00018       ريم القرني  user18_729@example.com        2024-04-09  writer\n",
       "18  U00019      يوسف الجهني  user19_679@example.com        2024-06-10  writer\n",
       "19  U00020     يوسف الغامدي  user20_545@example.com        2024-05-07  writer"
      ]
     },
     "execution_count": 94,
     "metadata": {},
     "output_type": "execute_result"
    }
   ],
   "source": [
    "# عرض أول 5 مستخدمين بشكل جدول منسق\n",
    "users.head(20)\n"
   ]
  },
  {
   "cell_type": "code",
   "execution_count": 34,
   "id": "cee05524",
   "metadata": {},
   "outputs": [],
   "source": [
    "articles = articles.rename(columns={'article_id':'content_id', 'writer_id':'author_id'})\n",
    "news = news.rename(columns={'news_id':'content_id', 'editor_id':'author_id'})"
   ]
  },
  {
   "cell_type": "code",
   "execution_count": 35,
   "id": "66b1fc91",
   "metadata": {
    "scrolled": true
   },
   "outputs": [],
   "source": [
    "content_all = pd.concat([\n",
    "    articles[['content_id','title','category']],\n",
    "    news[['content_id','title','category']]\n",
    "])"
   ]
  },
  {
   "cell_type": "code",
   "execution_count": 10,
   "id": "117f5283",
   "metadata": {},
   "outputs": [
    {
     "name": "stdout",
     "output_type": "stream",
     "text": [
      "إجمالي عدد المستخدمين: 40000\n"
     ]
    }
   ],
   "source": [
    "total_users = users['user_id'].nunique()\n",
    "print(\"إجمالي عدد المستخدمين:\", total_users)"
   ]
  },
  {
   "cell_type": "code",
   "execution_count": 99,
   "id": "93600cf2",
   "metadata": {
    "collapsed": true
   },
   "outputs": [
    {
     "name": "stdout",
     "output_type": "stream",
     "text": [
      "أول 10 تعليقات\n"
     ]
    },
    {
     "data": {
      "text/html": [
       "<div>\n",
       "<style scoped>\n",
       "    .dataframe tbody tr th:only-of-type {\n",
       "        vertical-align: middle;\n",
       "    }\n",
       "\n",
       "    .dataframe tbody tr th {\n",
       "        vertical-align: top;\n",
       "    }\n",
       "\n",
       "    .dataframe thead th {\n",
       "        text-align: right;\n",
       "    }\n",
       "</style>\n",
       "<table border=\"1\" class=\"dataframe\">\n",
       "  <thead>\n",
       "    <tr style=\"text-align: right;\">\n",
       "      <th></th>\n",
       "      <th>comment_id</th>\n",
       "      <th>user_id</th>\n",
       "      <th>content_id</th>\n",
       "      <th>comment_text</th>\n",
       "      <th>comment_date</th>\n",
       "      <th>is_abusive</th>\n",
       "      <th>title_x</th>\n",
       "      <th>category_x</th>\n",
       "      <th>title_y</th>\n",
       "      <th>category_y</th>\n",
       "      <th>title</th>\n",
       "      <th>category</th>\n",
       "    </tr>\n",
       "  </thead>\n",
       "  <tbody>\n",
       "    <tr>\n",
       "      <th>0</th>\n",
       "      <td>C00001</td>\n",
       "      <td>U35364</td>\n",
       "      <td>A11755</td>\n",
       "      <td>لا أوافق.</td>\n",
       "      <td>2024-05-29 00:00:00</td>\n",
       "      <td>True</td>\n",
       "      <td>مقارنة بين: و التكنولوجيا الناشئة</td>\n",
       "      <td>اقتصادية</td>\n",
       "      <td>مقارنة بين: و التكنولوجيا الناشئة</td>\n",
       "      <td>اقتصادية</td>\n",
       "      <td>مقارنة بين: و التكنولوجيا الناشئة</td>\n",
       "      <td>اقتصادية</td>\n",
       "    </tr>\n",
       "    <tr>\n",
       "      <th>1</th>\n",
       "      <td>C10564</td>\n",
       "      <td>U38823</td>\n",
       "      <td>A11755</td>\n",
       "      <td>شكراً على هذا المقال القيم.</td>\n",
       "      <td>2024-08-06 00:00:00</td>\n",
       "      <td>False</td>\n",
       "      <td>مقارنة بين: و التكنولوجيا الناشئة</td>\n",
       "      <td>اقتصادية</td>\n",
       "      <td>مقارنة بين: و التكنولوجيا الناشئة</td>\n",
       "      <td>اقتصادية</td>\n",
       "      <td>مقارنة بين: و التكنولوجيا الناشئة</td>\n",
       "      <td>اقتصادية</td>\n",
       "    </tr>\n",
       "    <tr>\n",
       "      <th>2</th>\n",
       "      <td>C00002</td>\n",
       "      <td>U31139</td>\n",
       "      <td>A03573</td>\n",
       "      <td>أتفق تمامًا مع هذا الرأي.</td>\n",
       "      <td>2024-05-19 00:00:00</td>\n",
       "      <td>False</td>\n",
       "      <td>دور في تشكيل التغير المناخي</td>\n",
       "      <td>سياسية</td>\n",
       "      <td>دور في تشكيل التغير المناخي</td>\n",
       "      <td>سياسية</td>\n",
       "      <td>دور في تشكيل التغير المناخي</td>\n",
       "      <td>سياسية</td>\n",
       "    </tr>\n",
       "    <tr>\n",
       "      <th>3</th>\n",
       "      <td>C00003</td>\n",
       "      <td>U03513</td>\n",
       "      <td>A24792</td>\n",
       "      <td>أحسنت الكتابة.</td>\n",
       "      <td>2024-07-20 00:00:00</td>\n",
       "      <td>False</td>\n",
       "      <td>تحليل عميق لـ الذكاء الاصطناعي</td>\n",
       "      <td>اقتصادية</td>\n",
       "      <td>تحليل عميق لـ الذكاء الاصطناعي</td>\n",
       "      <td>اقتصادية</td>\n",
       "      <td>تحليل عميق لـ الذكاء الاصطناعي</td>\n",
       "      <td>اقتصادية</td>\n",
       "    </tr>\n",
       "    <tr>\n",
       "      <th>4</th>\n",
       "      <td>C00134</td>\n",
       "      <td>U37631</td>\n",
       "      <td>A24792</td>\n",
       "      <td>تحليل رائع ومفيد جداً.</td>\n",
       "      <td>2024-07-04 00:00:00</td>\n",
       "      <td>False</td>\n",
       "      <td>تحليل عميق لـ الذكاء الاصطناعي</td>\n",
       "      <td>اقتصادية</td>\n",
       "      <td>تحليل عميق لـ الذكاء الاصطناعي</td>\n",
       "      <td>اقتصادية</td>\n",
       "      <td>تحليل عميق لـ الذكاء الاصطناعي</td>\n",
       "      <td>اقتصادية</td>\n",
       "    </tr>\n",
       "  </tbody>\n",
       "</table>\n",
       "</div>"
      ],
      "text/plain": [
       "  comment_id user_id content_id                 comment_text  \\\n",
       "0     C00001  U35364     A11755                    لا أوافق.   \n",
       "1     C10564  U38823     A11755  شكراً على هذا المقال القيم.   \n",
       "2     C00002  U31139     A03573    أتفق تمامًا مع هذا الرأي.   \n",
       "3     C00003  U03513     A24792               أحسنت الكتابة.   \n",
       "4     C00134  U37631     A24792       تحليل رائع ومفيد جداً.   \n",
       "\n",
       "          comment_date  is_abusive                            title_x  \\\n",
       "0  2024-05-29 00:00:00        True  مقارنة بين: و التكنولوجيا الناشئة   \n",
       "1  2024-08-06 00:00:00       False  مقارنة بين: و التكنولوجيا الناشئة   \n",
       "2  2024-05-19 00:00:00       False        دور في تشكيل التغير المناخي   \n",
       "3  2024-07-20 00:00:00       False     تحليل عميق لـ الذكاء الاصطناعي   \n",
       "4  2024-07-04 00:00:00       False     تحليل عميق لـ الذكاء الاصطناعي   \n",
       "\n",
       "  category_x                            title_y category_y  \\\n",
       "0   اقتصادية  مقارنة بين: و التكنولوجيا الناشئة   اقتصادية   \n",
       "1   اقتصادية  مقارنة بين: و التكنولوجيا الناشئة   اقتصادية   \n",
       "2     سياسية        دور في تشكيل التغير المناخي     سياسية   \n",
       "3   اقتصادية     تحليل عميق لـ الذكاء الاصطناعي   اقتصادية   \n",
       "4   اقتصادية     تحليل عميق لـ الذكاء الاصطناعي   اقتصادية   \n",
       "\n",
       "                               title  category  \n",
       "0  مقارنة بين: و التكنولوجيا الناشئة  اقتصادية  \n",
       "1  مقارنة بين: و التكنولوجيا الناشئة  اقتصادية  \n",
       "2        دور في تشكيل التغير المناخي    سياسية  \n",
       "3     تحليل عميق لـ الذكاء الاصطناعي  اقتصادية  \n",
       "4     تحليل عميق لـ الذكاء الاصطناعي  اقتصادية  "
      ]
     },
     "execution_count": 99,
     "metadata": {},
     "output_type": "execute_result"
    }
   ],
   "source": [
    "print(\"أول 10 تعليقات\")\n",
    "comments.head(5)\n",
    "\n"
   ]
  },
  {
   "cell_type": "code",
   "execution_count": 98,
   "id": "38a7f082",
   "metadata": {
    "collapsed": true
   },
   "outputs": [
    {
     "data": {
      "text/html": [
       "<div>\n",
       "<style scoped>\n",
       "    .dataframe tbody tr th:only-of-type {\n",
       "        vertical-align: middle;\n",
       "    }\n",
       "\n",
       "    .dataframe tbody tr th {\n",
       "        vertical-align: top;\n",
       "    }\n",
       "\n",
       "    .dataframe thead th {\n",
       "        text-align: right;\n",
       "    }\n",
       "</style>\n",
       "<table border=\"1\" class=\"dataframe\">\n",
       "  <thead>\n",
       "    <tr style=\"text-align: right;\">\n",
       "      <th></th>\n",
       "      <th>content_id</th>\n",
       "      <th>author_id</th>\n",
       "      <th>title</th>\n",
       "      <th>content</th>\n",
       "      <th>publish_date</th>\n",
       "      <th>category</th>\n",
       "    </tr>\n",
       "  </thead>\n",
       "  <tbody>\n",
       "    <tr>\n",
       "      <th>0</th>\n",
       "      <td>A00001</td>\n",
       "      <td>U01862</td>\n",
       "      <td>فهم أعمق لظاهرة الرياضة الحديثة</td>\n",
       "      <td>محتوى المقال التحليلي: تحليل عميق لـ... يوسف ا...</td>\n",
       "      <td>2024-06-20</td>\n",
       "      <td>رياضية</td>\n",
       "    </tr>\n",
       "    <tr>\n",
       "      <th>1</th>\n",
       "      <td>A00002</td>\n",
       "      <td>U00549</td>\n",
       "      <td>مقارنة بين: و الرياضة الحديثة</td>\n",
       "      <td>محتوى المقال التحليلي: تحليل عميق لـ... سارة ا...</td>\n",
       "      <td>2024-06-14</td>\n",
       "      <td>سياسية</td>\n",
       "    </tr>\n",
       "    <tr>\n",
       "      <th>2</th>\n",
       "      <td>A00003</td>\n",
       "      <td>U01400</td>\n",
       "      <td>رؤية مستقبلية حول السياسة الدولية</td>\n",
       "      <td>محتوى المقال التحليلي: دور في تشكيل... محمد ال...</td>\n",
       "      <td>2024-02-07</td>\n",
       "      <td>رياضية</td>\n",
       "    </tr>\n",
       "    <tr>\n",
       "      <th>3</th>\n",
       "      <td>A00004</td>\n",
       "      <td>U00168</td>\n",
       "      <td>نظرة نقدية على الذكاء الاصطناعي</td>\n",
       "      <td>محتوى المقال التحليلي: نظرة نقدية على... هدى ا...</td>\n",
       "      <td>2024-03-29</td>\n",
       "      <td>رياضية</td>\n",
       "    </tr>\n",
       "    <tr>\n",
       "      <th>4</th>\n",
       "      <td>A00005</td>\n",
       "      <td>U00388</td>\n",
       "      <td>تحليل عميق لـ الصحة النفسية</td>\n",
       "      <td>محتوى المقال التحليلي: التحديات والفرص في... ع...</td>\n",
       "      <td>2024-01-22</td>\n",
       "      <td>تكنولوجيا</td>\n",
       "    </tr>\n",
       "    <tr>\n",
       "      <th>5</th>\n",
       "      <td>A00006</td>\n",
       "      <td>U01184</td>\n",
       "      <td>رؤية مستقبلية حول التغير المناخي</td>\n",
       "      <td>محتوى المقال التحليلي: نظرة نقدية على... عمر ا...</td>\n",
       "      <td>2024-01-25</td>\n",
       "      <td>سياسية</td>\n",
       "    </tr>\n",
       "    <tr>\n",
       "      <th>6</th>\n",
       "      <td>A00007</td>\n",
       "      <td>U01759</td>\n",
       "      <td>دراسة حالة: تأثير الرياضة الحديثة</td>\n",
       "      <td>محتوى المقال التحليلي: دور في تشكيل... ليلى ال...</td>\n",
       "      <td>2024-01-29</td>\n",
       "      <td>تكنولوجيا</td>\n",
       "    </tr>\n",
       "    <tr>\n",
       "      <th>7</th>\n",
       "      <td>A00008</td>\n",
       "      <td>U00069</td>\n",
       "      <td>التحديات والفرص في التعليم عن بعد</td>\n",
       "      <td>محتوى المقال التحليلي: دور في تشكيل... محمد ال...</td>\n",
       "      <td>2024-08-03</td>\n",
       "      <td>رياضية</td>\n",
       "    </tr>\n",
       "    <tr>\n",
       "      <th>8</th>\n",
       "      <td>A00009</td>\n",
       "      <td>U00769</td>\n",
       "      <td>تحليل عميق لـ التعليم عن بعد</td>\n",
       "      <td>محتوى المقال التحليلي: فهم أعمق لظاهرة... ريم ...</td>\n",
       "      <td>2024-05-08</td>\n",
       "      <td>رياضية</td>\n",
       "    </tr>\n",
       "    <tr>\n",
       "      <th>9</th>\n",
       "      <td>A00010</td>\n",
       "      <td>U00550</td>\n",
       "      <td>التحديات والفرص في التعليم عن بعد</td>\n",
       "      <td>محتوى المقال التحليلي: فهم أعمق لظاهرة... زينب...</td>\n",
       "      <td>2024-02-05</td>\n",
       "      <td>رياضية</td>\n",
       "    </tr>\n",
       "  </tbody>\n",
       "</table>\n",
       "</div>"
      ],
      "text/plain": [
       "  content_id author_id                              title  \\\n",
       "0     A00001    U01862    فهم أعمق لظاهرة الرياضة الحديثة   \n",
       "1     A00002    U00549      مقارنة بين: و الرياضة الحديثة   \n",
       "2     A00003    U01400  رؤية مستقبلية حول السياسة الدولية   \n",
       "3     A00004    U00168    نظرة نقدية على الذكاء الاصطناعي   \n",
       "4     A00005    U00388        تحليل عميق لـ الصحة النفسية   \n",
       "5     A00006    U01184   رؤية مستقبلية حول التغير المناخي   \n",
       "6     A00007    U01759  دراسة حالة: تأثير الرياضة الحديثة   \n",
       "7     A00008    U00069  التحديات والفرص في التعليم عن بعد   \n",
       "8     A00009    U00769       تحليل عميق لـ التعليم عن بعد   \n",
       "9     A00010    U00550  التحديات والفرص في التعليم عن بعد   \n",
       "\n",
       "                                             content publish_date   category  \n",
       "0  محتوى المقال التحليلي: تحليل عميق لـ... يوسف ا...   2024-06-20     رياضية  \n",
       "1  محتوى المقال التحليلي: تحليل عميق لـ... سارة ا...   2024-06-14     سياسية  \n",
       "2  محتوى المقال التحليلي: دور في تشكيل... محمد ال...   2024-02-07     رياضية  \n",
       "3  محتوى المقال التحليلي: نظرة نقدية على... هدى ا...   2024-03-29     رياضية  \n",
       "4  محتوى المقال التحليلي: التحديات والفرص في... ع...   2024-01-22  تكنولوجيا  \n",
       "5  محتوى المقال التحليلي: نظرة نقدية على... عمر ا...   2024-01-25     سياسية  \n",
       "6  محتوى المقال التحليلي: دور في تشكيل... ليلى ال...   2024-01-29  تكنولوجيا  \n",
       "7  محتوى المقال التحليلي: دور في تشكيل... محمد ال...   2024-08-03     رياضية  \n",
       "8  محتوى المقال التحليلي: فهم أعمق لظاهرة... ريم ...   2024-05-08     رياضية  \n",
       "9  محتوى المقال التحليلي: فهم أعمق لظاهرة... زينب...   2024-02-05     رياضية  "
      ]
     },
     "execution_count": 98,
     "metadata": {},
     "output_type": "execute_result"
    }
   ],
   "source": [
    "articles.head(10)\n",
    "\n"
   ]
  },
  {
   "cell_type": "code",
   "execution_count": 36,
   "id": "c6ec022e",
   "metadata": {},
   "outputs": [],
   "source": [
    "comments.columns = comments.columns.str.strip()\n",
    "interactions.columns = interactions.columns.str.strip()\n",
    "content_all.columns = content_all.columns.str.strip()"
   ]
  },
  {
   "cell_type": "code",
   "execution_count": 37,
   "id": "e33b1718",
   "metadata": {
    "scrolled": true
   },
   "outputs": [],
   "source": [
    "comments = comments.merge(content_all, on='content_id', how='left')\n",
    "interactions = interactions.merge(content_all, on='content_id', how='left')\n"
   ]
  },
  {
   "cell_type": "code",
   "execution_count": 38,
   "id": "5701645e",
   "metadata": {},
   "outputs": [
    {
     "name": "stdout",
     "output_type": "stream",
     "text": [
      "إجمالي المستخدمين: 40000\n"
     ]
    }
   ],
   "source": [
    "total_users = users['user_id'].nunique()\n",
    "print(\"إجمالي المستخدمين:\", total_users)"
   ]
  },
  {
   "cell_type": "code",
   "execution_count": 76,
   "id": "3671bd10",
   "metadata": {},
   "outputs": [
    {
     "name": "stdout",
     "output_type": "stream",
     "text": [
      "أكثر 10 مستخدمين تفاعلًا\n"
     ]
    },
    {
     "data": {
      "text/html": [
       "<div>\n",
       "<style scoped>\n",
       "    .dataframe tbody tr th:only-of-type {\n",
       "        vertical-align: middle;\n",
       "    }\n",
       "\n",
       "    .dataframe tbody tr th {\n",
       "        vertical-align: top;\n",
       "    }\n",
       "\n",
       "    .dataframe thead th {\n",
       "        text-align: right;\n",
       "    }\n",
       "</style>\n",
       "<table border=\"1\" class=\"dataframe\">\n",
       "  <thead>\n",
       "    <tr style=\"text-align: right;\">\n",
       "      <th></th>\n",
       "      <th>username</th>\n",
       "      <th>total_interactions</th>\n",
       "    </tr>\n",
       "  </thead>\n",
       "  <tbody>\n",
       "    <tr>\n",
       "      <th>20065</th>\n",
       "      <td>زينب القرني</td>\n",
       "      <td>11</td>\n",
       "    </tr>\n",
       "    <tr>\n",
       "      <th>25365</th>\n",
       "      <td>سارة العنزي</td>\n",
       "      <td>9</td>\n",
       "    </tr>\n",
       "    <tr>\n",
       "      <th>21467</th>\n",
       "      <td>حسن الزهراني</td>\n",
       "      <td>9</td>\n",
       "    </tr>\n",
       "    <tr>\n",
       "      <th>29320</th>\n",
       "      <td>عمر البلوي</td>\n",
       "      <td>9</td>\n",
       "    </tr>\n",
       "    <tr>\n",
       "      <th>16042</th>\n",
       "      <td>أحمد الزهراني</td>\n",
       "      <td>9</td>\n",
       "    </tr>\n",
       "    <tr>\n",
       "      <th>26172</th>\n",
       "      <td>زينب المالكي</td>\n",
       "      <td>9</td>\n",
       "    </tr>\n",
       "    <tr>\n",
       "      <th>3410</th>\n",
       "      <td>زينب السبيعي</td>\n",
       "      <td>9</td>\n",
       "    </tr>\n",
       "    <tr>\n",
       "      <th>20082</th>\n",
       "      <td>محمد الجهني</td>\n",
       "      <td>8</td>\n",
       "    </tr>\n",
       "    <tr>\n",
       "      <th>9229</th>\n",
       "      <td>زينب المالكي</td>\n",
       "      <td>8</td>\n",
       "    </tr>\n",
       "    <tr>\n",
       "      <th>29382</th>\n",
       "      <td>سارة العتيبي</td>\n",
       "      <td>8</td>\n",
       "    </tr>\n",
       "  </tbody>\n",
       "</table>\n",
       "</div>"
      ],
      "text/plain": [
       "            username  total_interactions\n",
       "20065    زينب القرني                  11\n",
       "25365    سارة العنزي                   9\n",
       "21467   حسن الزهراني                   9\n",
       "29320     عمر البلوي                   9\n",
       "16042  أحمد الزهراني                   9\n",
       "26172   زينب المالكي                   9\n",
       "3410    زينب السبيعي                   9\n",
       "20082    محمد الجهني                   8\n",
       "9229    زينب المالكي                   8\n",
       "29382   سارة العتيبي                   8"
      ]
     },
     "execution_count": 76,
     "metadata": {},
     "output_type": "execute_result"
    }
   ],
   "source": [
    "# حساب التفاعلات حسب المستخدم\n",
    "user_interactions = interactions.groupby('user_id').size().reset_index(name='total_interactions')\n",
    "user_interactions = user_interactions.merge(users[['user_id','username']], on='user_id')\n",
    "\n",
    "# ترتيب أكثر 10 مستخدمين تفاعلًا\n",
    "top_users = user_interactions.sort_values('total_interactions', ascending=False).head(10)\n",
    "print(\"أكثر 10 مستخدمين تفاعلًا\")\n",
    "# عرض الجدول بشكل منظم\n",
    "top_users[['username','total_interactions']]\n"
   ]
  },
  {
   "cell_type": "code",
   "execution_count": 72,
   "id": "52e0523e",
   "metadata": {
    "collapsed": true
   },
   "outputs": [
    {
     "data": {
      "text/html": [
       "<div>\n",
       "<style scoped>\n",
       "    .dataframe tbody tr th:only-of-type {\n",
       "        vertical-align: middle;\n",
       "    }\n",
       "\n",
       "    .dataframe tbody tr th {\n",
       "        vertical-align: top;\n",
       "    }\n",
       "\n",
       "    .dataframe thead th {\n",
       "        text-align: right;\n",
       "    }\n",
       "</style>\n",
       "<table border=\"1\" class=\"dataframe\">\n",
       "  <thead>\n",
       "    <tr style=\"text-align: right;\">\n",
       "      <th></th>\n",
       "      <th>نوع المحتوى</th>\n",
       "      <th>العدد</th>\n",
       "    </tr>\n",
       "  </thead>\n",
       "  <tbody>\n",
       "    <tr>\n",
       "      <th>0</th>\n",
       "      <td>مقالات</td>\n",
       "      <td>25000</td>\n",
       "    </tr>\n",
       "    <tr>\n",
       "      <th>1</th>\n",
       "      <td>أخبار</td>\n",
       "      <td>15000</td>\n",
       "    </tr>\n",
       "  </tbody>\n",
       "</table>\n",
       "</div>"
      ],
      "text/plain": [
       "  نوع المحتوى  العدد\n",
       "0      مقالات  25000\n",
       "1       أخبار  15000"
      ]
     },
     "execution_count": 72,
     "metadata": {},
     "output_type": "execute_result"
    }
   ],
   "source": [
    "# إنشاء جدول لعدد المقالات والأخبار\n",
    "content_counts = pd.DataFrame({\n",
    "    'نوع المحتوى': ['مقالات', 'أخبار'],\n",
    "    'العدد': [articles['content_id'].nunique(), news['content_id'].nunique()]\n",
    "})\n",
    "\n",
    "# عرض الجدول بشكل منسق\n",
    "content_counts.style.set_table_attributes(\"border=1\").set_caption(\"عدد المقالات والأخبار\")\n"
   ]
  },
  {
   "cell_type": "code",
   "execution_count": 64,
   "id": "eb9217d7",
   "metadata": {
    "collapsed": true
   },
   "outputs": [
    {
     "name": "stdout",
     "output_type": "stream",
     "text": [
      "أكثر 10 محتويات تفاعلًا\n"
     ]
    },
    {
     "data": {
      "text/html": [
       "<div>\n",
       "<style scoped>\n",
       "    .dataframe tbody tr th:only-of-type {\n",
       "        vertical-align: middle;\n",
       "    }\n",
       "\n",
       "    .dataframe tbody tr th {\n",
       "        vertical-align: top;\n",
       "    }\n",
       "\n",
       "    .dataframe thead th {\n",
       "        text-align: right;\n",
       "    }\n",
       "</style>\n",
       "<table border=\"1\" class=\"dataframe\">\n",
       "  <thead>\n",
       "    <tr style=\"text-align: right;\">\n",
       "      <th></th>\n",
       "      <th>title</th>\n",
       "      <th>category</th>\n",
       "      <th>total_interactions</th>\n",
       "    </tr>\n",
       "  </thead>\n",
       "  <tbody>\n",
       "    <tr>\n",
       "      <th>25819</th>\n",
       "      <td>الأسواق العالمية تتفاعل مع رياضية</td>\n",
       "      <td>تكنولوجيا</td>\n",
       "      <td>11</td>\n",
       "    </tr>\n",
       "    <tr>\n",
       "      <th>21948</th>\n",
       "      <td>بطولة رياضية كبرى تشهد تكنولوجيا</td>\n",
       "      <td>اقتصادية</td>\n",
       "      <td>10</td>\n",
       "    </tr>\n",
       "    <tr>\n",
       "      <th>3133</th>\n",
       "      <td>خمسة دروس مستفادة من الرياضة الحديثة</td>\n",
       "      <td>اقتصادية</td>\n",
       "      <td>10</td>\n",
       "    </tr>\n",
       "    <tr>\n",
       "      <th>2325</th>\n",
       "      <td>التحديات والفرص في التغير المناخي</td>\n",
       "      <td>سياسية</td>\n",
       "      <td>9</td>\n",
       "    </tr>\n",
       "    <tr>\n",
       "      <th>18864</th>\n",
       "      <td>فهم أعمق لظاهرة الذكاء الاصطناعي</td>\n",
       "      <td>تكنولوجيا</td>\n",
       "      <td>9</td>\n",
       "    </tr>\n",
       "    <tr>\n",
       "      <th>16684</th>\n",
       "      <td>فهم أعمق لظاهرة الرياضة الحديثة</td>\n",
       "      <td>سياسية</td>\n",
       "      <td>9</td>\n",
       "    </tr>\n",
       "    <tr>\n",
       "      <th>18022</th>\n",
       "      <td>كيف تؤثر على حياتنا؟ الاقتصاد الرقمي</td>\n",
       "      <td>رياضية</td>\n",
       "      <td>9</td>\n",
       "    </tr>\n",
       "    <tr>\n",
       "      <th>30379</th>\n",
       "      <td>تقدم تكنولوجي غير مسبوق في مجال تكنولوجيا</td>\n",
       "      <td>رياضية</td>\n",
       "      <td>9</td>\n",
       "    </tr>\n",
       "    <tr>\n",
       "      <th>20075</th>\n",
       "      <td>صحة المجتمع في ظل التحديات الراهنة اقتصادية</td>\n",
       "      <td>سياسية</td>\n",
       "      <td>9</td>\n",
       "    </tr>\n",
       "    <tr>\n",
       "      <th>7477</th>\n",
       "      <td>تحليل عميق لـ الاقتصاد الرقمي</td>\n",
       "      <td>اقتصادية</td>\n",
       "      <td>8</td>\n",
       "    </tr>\n",
       "  </tbody>\n",
       "</table>\n",
       "</div>"
      ],
      "text/plain": [
       "                                             title   category  \\\n",
       "25819            الأسواق العالمية تتفاعل مع رياضية  تكنولوجيا   \n",
       "21948             بطولة رياضية كبرى تشهد تكنولوجيا   اقتصادية   \n",
       "3133          خمسة دروس مستفادة من الرياضة الحديثة   اقتصادية   \n",
       "2325             التحديات والفرص في التغير المناخي     سياسية   \n",
       "18864             فهم أعمق لظاهرة الذكاء الاصطناعي  تكنولوجيا   \n",
       "16684              فهم أعمق لظاهرة الرياضة الحديثة     سياسية   \n",
       "18022         كيف تؤثر على حياتنا؟ الاقتصاد الرقمي     رياضية   \n",
       "30379    تقدم تكنولوجي غير مسبوق في مجال تكنولوجيا     رياضية   \n",
       "20075  صحة المجتمع في ظل التحديات الراهنة اقتصادية     سياسية   \n",
       "7477                 تحليل عميق لـ الاقتصاد الرقمي   اقتصادية   \n",
       "\n",
       "       total_interactions  \n",
       "25819                  11  \n",
       "21948                  10  \n",
       "3133                   10  \n",
       "2325                    9  \n",
       "18864                   9  \n",
       "16684                   9  \n",
       "18022                   9  \n",
       "30379                   9  \n",
       "20075                   9  \n",
       "7477                    8  "
      ]
     },
     "execution_count": 64,
     "metadata": {},
     "output_type": "execute_result"
    }
   ],
   "source": [
    "# حساب التفاعلات حسب المحتوى\n",
    "content_interactions = interactions.groupby('content_id').size().reset_index(name='total_interactions')\n",
    "content_interactions = content_interactions.merge(content_all, on='content_id')\n",
    "\n",
    "# ترتيب أكثر 10 محتويات تفاعلًا\n",
    "top_content = content_interactions.sort_values('total_interactions', ascending=False).head(10)\n",
    "print(\"أكثر 10 محتويات تفاعلًا\")\n",
    "# عرض الجدول بشكل منظم\n",
    "top_content[['title','category','total_interactions']]\n"
   ]
  },
  {
   "cell_type": "code",
   "execution_count": 62,
   "id": "dd2e05e2",
   "metadata": {},
   "outputs": [
    {
     "name": "stdout",
     "output_type": "stream",
     "text": [
      "عدد التعليقات الجيدة والمسيئة\n"
     ]
    },
    {
     "data": {
      "text/html": [
       "<div>\n",
       "<style scoped>\n",
       "    .dataframe tbody tr th:only-of-type {\n",
       "        vertical-align: middle;\n",
       "    }\n",
       "\n",
       "    .dataframe tbody tr th {\n",
       "        vertical-align: top;\n",
       "    }\n",
       "\n",
       "    .dataframe thead th {\n",
       "        text-align: right;\n",
       "    }\n",
       "</style>\n",
       "<table border=\"1\" class=\"dataframe\">\n",
       "  <thead>\n",
       "    <tr style=\"text-align: right;\">\n",
       "      <th></th>\n",
       "      <th>type</th>\n",
       "      <th>total_comments</th>\n",
       "    </tr>\n",
       "  </thead>\n",
       "  <tbody>\n",
       "    <tr>\n",
       "      <th>0</th>\n",
       "      <td>جيدة</td>\n",
       "      <td>12757</td>\n",
       "    </tr>\n",
       "    <tr>\n",
       "      <th>1</th>\n",
       "      <td>مسيئة</td>\n",
       "      <td>2243</td>\n",
       "    </tr>\n",
       "  </tbody>\n",
       "</table>\n",
       "</div>"
      ],
      "text/plain": [
       "    type  total_comments\n",
       "0   جيدة           12757\n",
       "1  مسيئة            2243"
      ]
     },
     "execution_count": 62,
     "metadata": {},
     "output_type": "execute_result"
    }
   ],
   "source": [
    "# حساب عدد التعليقات الجيدة والمسيئة\n",
    "abusive_table = comments['is_abusive'].value_counts().reset_index()\n",
    "abusive_table.columns = ['type','total_comments']\n",
    "abusive_table['type'] = abusive_table['type'].replace({True:'مسيئة', False:'جيدة'})\n",
    "print(\"عدد التعليقات الجيدة والمسيئة\")\n",
    "# عرض الجدول بشكل منظم\n",
    "abusive_table\n"
   ]
  },
  {
   "cell_type": "code",
   "execution_count": 55,
   "id": "f94e092d",
   "metadata": {
    "collapsed": true
   },
   "outputs": [
    {
     "name": "stdout",
     "output_type": "stream",
     "text": [
      "أكثر 10 مستخدمين في التعليقات\n"
     ]
    },
    {
     "data": {
      "text/html": [
       "<div>\n",
       "<style scoped>\n",
       "    .dataframe tbody tr th:only-of-type {\n",
       "        vertical-align: middle;\n",
       "    }\n",
       "\n",
       "    .dataframe tbody tr th {\n",
       "        vertical-align: top;\n",
       "    }\n",
       "\n",
       "    .dataframe thead th {\n",
       "        text-align: right;\n",
       "    }\n",
       "</style>\n",
       "<table border=\"1\" class=\"dataframe\">\n",
       "  <thead>\n",
       "    <tr style=\"text-align: right;\">\n",
       "      <th></th>\n",
       "      <th>username</th>\n",
       "      <th>total_comments</th>\n",
       "    </tr>\n",
       "  </thead>\n",
       "  <tbody>\n",
       "    <tr>\n",
       "      <th>4194</th>\n",
       "      <td>مريم الدوسري</td>\n",
       "      <td>5</td>\n",
       "    </tr>\n",
       "    <tr>\n",
       "      <th>7734</th>\n",
       "      <td>ليلى الرشيدي</td>\n",
       "      <td>5</td>\n",
       "    </tr>\n",
       "    <tr>\n",
       "      <th>5582</th>\n",
       "      <td>ليلى الشمري</td>\n",
       "      <td>5</td>\n",
       "    </tr>\n",
       "    <tr>\n",
       "      <th>9147</th>\n",
       "      <td>يوسف الدوسري</td>\n",
       "      <td>4</td>\n",
       "    </tr>\n",
       "    <tr>\n",
       "      <th>1356</th>\n",
       "      <td>زينب السبيعي</td>\n",
       "      <td>4</td>\n",
       "    </tr>\n",
       "    <tr>\n",
       "      <th>7985</th>\n",
       "      <td>خالد الشهري</td>\n",
       "      <td>4</td>\n",
       "    </tr>\n",
       "    <tr>\n",
       "      <th>6241</th>\n",
       "      <td>محمد الزهراني</td>\n",
       "      <td>4</td>\n",
       "    </tr>\n",
       "    <tr>\n",
       "      <th>2783</th>\n",
       "      <td>هدى المالكي</td>\n",
       "      <td>4</td>\n",
       "    </tr>\n",
       "    <tr>\n",
       "      <th>8311</th>\n",
       "      <td>خالد الحربي</td>\n",
       "      <td>4</td>\n",
       "    </tr>\n",
       "    <tr>\n",
       "      <th>3123</th>\n",
       "      <td>يوسف البلوي</td>\n",
       "      <td>4</td>\n",
       "    </tr>\n",
       "  </tbody>\n",
       "</table>\n",
       "</div>"
      ],
      "text/plain": [
       "           username  total_comments\n",
       "4194   مريم الدوسري               5\n",
       "7734   ليلى الرشيدي               5\n",
       "5582    ليلى الشمري               5\n",
       "9147   يوسف الدوسري               4\n",
       "1356   زينب السبيعي               4\n",
       "7985    خالد الشهري               4\n",
       "6241  محمد الزهراني               4\n",
       "2783    هدى المالكي               4\n",
       "8311    خالد الحربي               4\n",
       "3123    يوسف البلوي               4"
      ]
     },
     "execution_count": 55,
     "metadata": {},
     "output_type": "execute_result"
    }
   ],
   "source": [
    "comments_by_user = comments.groupby('user_id').size().reset_index(name='total_comments')\n",
    "comments_by_user = comments_by_user.merge(users[['user_id','username']], on='user_id')\n",
    "\n",
    "# ترتيب أكثر 10 مستخدمين نشاطًا في التعليقات\n",
    "top_commenters = comments_by_user.sort_values('total_comments', ascending=False).head(10)\n",
    "print(\"أكثر 10 مستخدمين في التعليقات\")\n",
    "# عرض الجدول بشكل منظم\n",
    "top_commenters[['username','total_comments']]"
   ]
  },
  {
   "cell_type": "code",
   "execution_count": 59,
   "id": "3721bc59",
   "metadata": {
    "collapsed": true
   },
   "outputs": [
    {
     "name": "stdout",
     "output_type": "stream",
     "text": [
      "التعليقات حسب التصنيف والمحتوى\n"
     ]
    },
    {
     "data": {
      "text/html": [
       "<div>\n",
       "<style scoped>\n",
       "    .dataframe tbody tr th:only-of-type {\n",
       "        vertical-align: middle;\n",
       "    }\n",
       "\n",
       "    .dataframe tbody tr th {\n",
       "        vertical-align: top;\n",
       "    }\n",
       "\n",
       "    .dataframe thead th {\n",
       "        text-align: right;\n",
       "    }\n",
       "</style>\n",
       "<table border=\"1\" class=\"dataframe\">\n",
       "  <thead>\n",
       "    <tr style=\"text-align: right;\">\n",
       "      <th>is_abusive</th>\n",
       "      <th>جيدة</th>\n",
       "      <th>مسيئة</th>\n",
       "    </tr>\n",
       "    <tr>\n",
       "      <th>category</th>\n",
       "      <th></th>\n",
       "      <th></th>\n",
       "    </tr>\n",
       "  </thead>\n",
       "  <tbody>\n",
       "    <tr>\n",
       "      <th>اقتصادية</th>\n",
       "      <td>3217</td>\n",
       "      <td>564</td>\n",
       "    </tr>\n",
       "    <tr>\n",
       "      <th>تكنولوجيا</th>\n",
       "      <td>3145</td>\n",
       "      <td>563</td>\n",
       "    </tr>\n",
       "    <tr>\n",
       "      <th>رياضية</th>\n",
       "      <td>3226</td>\n",
       "      <td>575</td>\n",
       "    </tr>\n",
       "    <tr>\n",
       "      <th>سياسية</th>\n",
       "      <td>3169</td>\n",
       "      <td>541</td>\n",
       "    </tr>\n",
       "  </tbody>\n",
       "</table>\n",
       "</div>"
      ],
      "text/plain": [
       "is_abusive  جيدة  مسيئة\n",
       "category               \n",
       "اقتصادية    3217    564\n",
       "تكنولوجيا   3145    563\n",
       "رياضية      3226    575\n",
       "سياسية      3169    541"
      ]
     },
     "execution_count": 59,
     "metadata": {},
     "output_type": "execute_result"
    }
   ],
   "source": [
    "# تجميع التعليقات حسب التصنيف ونوعها\n",
    "abusive_by_category = comments.groupby(['category','is_abusive']).size().unstack(fill_value=0)\n",
    "abusive_by_category.rename(columns={False:'جيدة', True:'مسيئة'}, inplace=True)\n",
    "print(\"التعليقات حسب التصنيف والمحتوى\")\n",
    "# عرض الجدول بشكل منظم\n",
    "abusive_by_category\n"
   ]
  },
  {
   "cell_type": "code",
   "execution_count": 45,
   "id": "6f3e2b70",
   "metadata": {
    "collapsed": true
   },
   "outputs": [
    {
     "data": {
      "image/png": "[encoded data removed]",
      "text/plain": [
       "<Figure size 432x288 with 1 Axes>"
      ]
     },
     "metadata": {
      "needs_background": "light"
     },
     "output_type": "display_data"
    }
   ],
   "source": [
    "plt.figure(figsize=(6,4))\n",
    "sns.barplot(x='type', y='total_comments', data=abusive_table)\n",
    "plt.title(\"عدد التعليقات الجيدة والمسيئة\")\n",
    "plt.ylabel(\"عدد التعليقات\")\n",
    "plt.show()"
   ]
  },
  {
   "cell_type": "code",
   "execution_count": 46,
   "id": "3c2af1e7",
   "metadata": {
    "collapsed": true
   },
   "outputs": [
    {
     "data": {
      "image/png": "[encoded data removed]",
      "text/plain": [
       "<Figure size 720x288 with 1 Axes>"
      ]
     },
     "metadata": {
      "needs_background": "light"
     },
     "output_type": "display_data"
    }
   ],
   "source": [
    "plt.figure(figsize=(10,4))\n",
    "sns.barplot(x='username', y='total_interactions', data=top_users)\n",
    "plt.xticks(rotation=45)\n",
    "plt.title(\"أكثر 10 مستخدمين تفاعلًا\")\n",
    "plt.show()"
   ]
  },
  {
   "cell_type": "code",
   "execution_count": 87,
   "id": "db527082",
   "metadata": {
    "scrolled": true
   },
   "outputs": [
    {
     "name": "stdout",
     "output_type": "stream",
     "text": [
      "أكثر 10 محتويات إعجابًا\n"
     ]
    },
    {
     "data": {
      "text/html": [
       "<div>\n",
       "<style scoped>\n",
       "    .dataframe tbody tr th:only-of-type {\n",
       "        vertical-align: middle;\n",
       "    }\n",
       "\n",
       "    .dataframe tbody tr th {\n",
       "        vertical-align: top;\n",
       "    }\n",
       "\n",
       "    .dataframe thead th {\n",
       "        text-align: right;\n",
       "    }\n",
       "</style>\n",
       "<table border=\"1\" class=\"dataframe\">\n",
       "  <thead>\n",
       "    <tr style=\"text-align: right;\">\n",
       "      <th></th>\n",
       "      <th>title</th>\n",
       "      <th>category</th>\n",
       "      <th>likes</th>\n",
       "    </tr>\n",
       "  </thead>\n",
       "  <tbody>\n",
       "    <tr>\n",
       "      <th>14232</th>\n",
       "      <td>صحة المجتمع في ظل التحديات الراهنة اقتصادية</td>\n",
       "      <td>سياسية</td>\n",
       "      <td>8</td>\n",
       "    </tr>\n",
       "    <tr>\n",
       "      <th>5962</th>\n",
       "      <td>التحديات والفرص في السياسة الدولية</td>\n",
       "      <td>رياضية</td>\n",
       "      <td>7</td>\n",
       "    </tr>\n",
       "    <tr>\n",
       "      <th>15733</th>\n",
       "      <td>بطولة رياضية كبرى تشهد تكنولوجيا</td>\n",
       "      <td>اقتصادية</td>\n",
       "      <td>7</td>\n",
       "    </tr>\n",
       "    <tr>\n",
       "      <th>18795</th>\n",
       "      <td>الأسواق العالمية تتفاعل مع رياضية</td>\n",
       "      <td>تكنولوجيا</td>\n",
       "      <td>7</td>\n",
       "    </tr>\n",
       "    <tr>\n",
       "      <th>22933</th>\n",
       "      <td>تقدم تكنولوجي غير مسبوق في مجال سياسية</td>\n",
       "      <td>سياسية</td>\n",
       "      <td>7</td>\n",
       "    </tr>\n",
       "    <tr>\n",
       "      <th>2204</th>\n",
       "      <td>خمسة دروس مستفادة من الرياضة الحديثة</td>\n",
       "      <td>اقتصادية</td>\n",
       "      <td>7</td>\n",
       "    </tr>\n",
       "    <tr>\n",
       "      <th>450</th>\n",
       "      <td>مقارنة بين: و التعليم عن بعد</td>\n",
       "      <td>تكنولوجيا</td>\n",
       "      <td>6</td>\n",
       "    </tr>\n",
       "    <tr>\n",
       "      <th>17189</th>\n",
       "      <td>نتائج دراسة حديثة تكشف عن تكنولوجيا</td>\n",
       "      <td>تكنولوجيا</td>\n",
       "      <td>6</td>\n",
       "    </tr>\n",
       "    <tr>\n",
       "      <th>15334</th>\n",
       "      <td>الأسواق العالمية تتفاعل مع سياسية</td>\n",
       "      <td>رياضية</td>\n",
       "      <td>6</td>\n",
       "    </tr>\n",
       "    <tr>\n",
       "      <th>2470</th>\n",
       "      <td>مقارنة بين: و الصحة النفسية</td>\n",
       "      <td>رياضية</td>\n",
       "      <td>6</td>\n",
       "    </tr>\n",
       "  </tbody>\n",
       "</table>\n",
       "</div>"
      ],
      "text/plain": [
       "                                             title   category  likes\n",
       "14232  صحة المجتمع في ظل التحديات الراهنة اقتصادية     سياسية      8\n",
       "5962            التحديات والفرص في السياسة الدولية     رياضية      7\n",
       "15733             بطولة رياضية كبرى تشهد تكنولوجيا   اقتصادية      7\n",
       "18795            الأسواق العالمية تتفاعل مع رياضية  تكنولوجيا      7\n",
       "22933       تقدم تكنولوجي غير مسبوق في مجال سياسية     سياسية      7\n",
       "2204          خمسة دروس مستفادة من الرياضة الحديثة   اقتصادية      7\n",
       "450                   مقارنة بين: و التعليم عن بعد  تكنولوجيا      6\n",
       "17189          نتائج دراسة حديثة تكشف عن تكنولوجيا  تكنولوجيا      6\n",
       "15334            الأسواق العالمية تتفاعل مع سياسية     رياضية      6\n",
       "2470                   مقارنة بين: و الصحة النفسية     رياضية      6"
      ]
     },
     "execution_count": 87,
     "metadata": {},
     "output_type": "execute_result"
    }
   ],
   "source": [
    "top_likes = interactions[interactions['interaction_type']=='like'].groupby('content_id').size().reset_index(name='likes')\n",
    "top_likes = top_likes.merge(content_all, on='content_id').sort_values('likes', ascending=False).head(10)\n",
    "print(\"أكثر 10 محتويات إعجابًا\")\n",
    "top_likes[['title','category','likes']]\n",
    "\n",
    "\n"
   ]
  },
  {
   "cell_type": "code",
   "execution_count": 86,
   "id": "5d5a72a3",
   "metadata": {
    "collapsed": true
   },
   "outputs": [
    {
     "name": "stdout",
     "output_type": "stream",
     "text": [
      "أكثر 10 محتويات مشاركة\n"
     ]
    },
    {
     "data": {
      "text/html": [
       "<div>\n",
       "<style scoped>\n",
       "    .dataframe tbody tr th:only-of-type {\n",
       "        vertical-align: middle;\n",
       "    }\n",
       "\n",
       "    .dataframe tbody tr th {\n",
       "        vertical-align: top;\n",
       "    }\n",
       "\n",
       "    .dataframe thead th {\n",
       "        text-align: right;\n",
       "    }\n",
       "</style>\n",
       "<table border=\"1\" class=\"dataframe\">\n",
       "  <thead>\n",
       "    <tr style=\"text-align: right;\">\n",
       "      <th></th>\n",
       "      <th>title</th>\n",
       "      <th>category</th>\n",
       "      <th>shares</th>\n",
       "    </tr>\n",
       "  </thead>\n",
       "  <tbody>\n",
       "    <tr>\n",
       "      <th>342</th>\n",
       "      <td>فهم أعمق لظاهرة الصحة النفسية</td>\n",
       "      <td>تكنولوجيا</td>\n",
       "      <td>5</td>\n",
       "    </tr>\n",
       "    <tr>\n",
       "      <th>7263</th>\n",
       "      <td>تصريحات هامة من مسؤول رفيع المستوى حول اقتصادية</td>\n",
       "      <td>اقتصادية</td>\n",
       "      <td>5</td>\n",
       "    </tr>\n",
       "    <tr>\n",
       "      <th>4747</th>\n",
       "      <td>صحة المجتمع في ظل التحديات الراهنة تكنولوجيا</td>\n",
       "      <td>تكنولوجيا</td>\n",
       "      <td>4</td>\n",
       "    </tr>\n",
       "    <tr>\n",
       "      <th>5830</th>\n",
       "      <td>أزمة المناخ وتأثيرها على رياضية</td>\n",
       "      <td>اقتصادية</td>\n",
       "      <td>4</td>\n",
       "    </tr>\n",
       "    <tr>\n",
       "      <th>5629</th>\n",
       "      <td>أزمة المناخ وتأثيرها على رياضية</td>\n",
       "      <td>تكنولوجيا</td>\n",
       "      <td>4</td>\n",
       "    </tr>\n",
       "    <tr>\n",
       "      <th>7697</th>\n",
       "      <td>تطورات جديدة في ملف تكنولوجيا</td>\n",
       "      <td>رياضية</td>\n",
       "      <td>4</td>\n",
       "    </tr>\n",
       "    <tr>\n",
       "      <th>4702</th>\n",
       "      <td>مبادرة جديدة لتعزيز تكنولوجيا</td>\n",
       "      <td>سياسية</td>\n",
       "      <td>4</td>\n",
       "    </tr>\n",
       "    <tr>\n",
       "      <th>7374</th>\n",
       "      <td>مبادرة جديدة لتعزيز اقتصادية</td>\n",
       "      <td>رياضية</td>\n",
       "      <td>4</td>\n",
       "    </tr>\n",
       "    <tr>\n",
       "      <th>5451</th>\n",
       "      <td>مبادرة جديدة لتعزيز اقتصادية</td>\n",
       "      <td>تكنولوجيا</td>\n",
       "      <td>4</td>\n",
       "    </tr>\n",
       "    <tr>\n",
       "      <th>4956</th>\n",
       "      <td>نتائج دراسة حديثة تكشف عن سياسية</td>\n",
       "      <td>سياسية</td>\n",
       "      <td>4</td>\n",
       "    </tr>\n",
       "  </tbody>\n",
       "</table>\n",
       "</div>"
      ],
      "text/plain": [
       "                                                title   category  shares\n",
       "342                     فهم أعمق لظاهرة الصحة النفسية  تكنولوجيا       5\n",
       "7263  تصريحات هامة من مسؤول رفيع المستوى حول اقتصادية   اقتصادية       5\n",
       "4747     صحة المجتمع في ظل التحديات الراهنة تكنولوجيا  تكنولوجيا       4\n",
       "5830                  أزمة المناخ وتأثيرها على رياضية   اقتصادية       4\n",
       "5629                  أزمة المناخ وتأثيرها على رياضية  تكنولوجيا       4\n",
       "7697                    تطورات جديدة في ملف تكنولوجيا     رياضية       4\n",
       "4702                    مبادرة جديدة لتعزيز تكنولوجيا     سياسية       4\n",
       "7374                     مبادرة جديدة لتعزيز اقتصادية     رياضية       4\n",
       "5451                     مبادرة جديدة لتعزيز اقتصادية  تكنولوجيا       4\n",
       "4956                 نتائج دراسة حديثة تكشف عن سياسية     سياسية       4"
      ]
     },
     "execution_count": 86,
     "metadata": {},
     "output_type": "execute_result"
    }
   ],
   "source": [
    "top_shares = interactions[interactions['interaction_type']=='share'].groupby('content_id').size().reset_index(name='shares')\n",
    "top_shares = top_shares.merge(content_all, on='content_id').sort_values('shares', ascending=False).head(10)\n",
    "print(\"أكثر 10 محتويات مشاركة\")\n",
    "top_shares[['title','category','shares']]\n"
   ]
  },
  {
   "cell_type": "code",
   "execution_count": 84,
   "id": "325c8fc0",
   "metadata": {
    "collapsed": true
   },
   "outputs": [
    {
     "name": "stdout",
     "output_type": "stream",
     "text": [
      "أكثر 10 محتويات حفظًا\n"
     ]
    },
    {
     "data": {
      "text/html": [
       "<div>\n",
       "<style scoped>\n",
       "    .dataframe tbody tr th:only-of-type {\n",
       "        vertical-align: middle;\n",
       "    }\n",
       "\n",
       "    .dataframe tbody tr th {\n",
       "        vertical-align: top;\n",
       "    }\n",
       "\n",
       "    .dataframe thead th {\n",
       "        text-align: right;\n",
       "    }\n",
       "</style>\n",
       "<table border=\"1\" class=\"dataframe\">\n",
       "  <thead>\n",
       "    <tr style=\"text-align: right;\">\n",
       "      <th></th>\n",
       "      <th>title</th>\n",
       "      <th>category</th>\n",
       "      <th>saves</th>\n",
       "    </tr>\n",
       "  </thead>\n",
       "  <tbody>\n",
       "    <tr>\n",
       "      <th>200</th>\n",
       "      <td>اكتشاف أثري جديد في تكنولوجيا</td>\n",
       "      <td>اقتصادية</td>\n",
       "      <td>5</td>\n",
       "    </tr>\n",
       "    <tr>\n",
       "      <th>2748</th>\n",
       "      <td>صحة المجتمع في ظل التحديات الراهنة رياضية</td>\n",
       "      <td>سياسية</td>\n",
       "      <td>4</td>\n",
       "    </tr>\n",
       "    <tr>\n",
       "      <th>3520</th>\n",
       "      <td>نتائج دراسة حديثة تكشف عن تكنولوجيا</td>\n",
       "      <td>اقتصادية</td>\n",
       "      <td>4</td>\n",
       "    </tr>\n",
       "    <tr>\n",
       "      <th>2104</th>\n",
       "      <td>الأسواق العالمية تتفاعل مع رياضية</td>\n",
       "      <td>تكنولوجيا</td>\n",
       "      <td>4</td>\n",
       "    </tr>\n",
       "    <tr>\n",
       "      <th>2180</th>\n",
       "      <td>أزمة المناخ وتأثيرها على اقتصادية</td>\n",
       "      <td>رياضية</td>\n",
       "      <td>4</td>\n",
       "    </tr>\n",
       "    <tr>\n",
       "      <th>4176</th>\n",
       "      <td>تصريحات هامة من مسؤول رفيع المستوى حول اقتصادية</td>\n",
       "      <td>تكنولوجيا</td>\n",
       "      <td>4</td>\n",
       "    </tr>\n",
       "    <tr>\n",
       "      <th>645</th>\n",
       "      <td>صحة المجتمع في ظل التحديات الراهنة سياسية</td>\n",
       "      <td>اقتصادية</td>\n",
       "      <td>4</td>\n",
       "    </tr>\n",
       "    <tr>\n",
       "      <th>1209</th>\n",
       "      <td>توقعات اقتصادية للربع القادم سياسية</td>\n",
       "      <td>اقتصادية</td>\n",
       "      <td>4</td>\n",
       "    </tr>\n",
       "    <tr>\n",
       "      <th>3760</th>\n",
       "      <td>مبادرة جديدة لتعزيز اقتصادية</td>\n",
       "      <td>سياسية</td>\n",
       "      <td>4</td>\n",
       "    </tr>\n",
       "    <tr>\n",
       "      <th>4377</th>\n",
       "      <td>مبادرة جديدة لتعزيز اقتصادية</td>\n",
       "      <td>سياسية</td>\n",
       "      <td>4</td>\n",
       "    </tr>\n",
       "  </tbody>\n",
       "</table>\n",
       "</div>"
      ],
      "text/plain": [
       "                                                title   category  saves\n",
       "200                     اكتشاف أثري جديد في تكنولوجيا   اقتصادية      5\n",
       "2748        صحة المجتمع في ظل التحديات الراهنة رياضية     سياسية      4\n",
       "3520              نتائج دراسة حديثة تكشف عن تكنولوجيا   اقتصادية      4\n",
       "2104                الأسواق العالمية تتفاعل مع رياضية  تكنولوجيا      4\n",
       "2180                أزمة المناخ وتأثيرها على اقتصادية     رياضية      4\n",
       "4176  تصريحات هامة من مسؤول رفيع المستوى حول اقتصادية  تكنولوجيا      4\n",
       "645         صحة المجتمع في ظل التحديات الراهنة سياسية   اقتصادية      4\n",
       "1209              توقعات اقتصادية للربع القادم سياسية   اقتصادية      4\n",
       "3760                     مبادرة جديدة لتعزيز اقتصادية     سياسية      4\n",
       "4377                     مبادرة جديدة لتعزيز اقتصادية     سياسية      4"
      ]
     },
     "execution_count": 84,
     "metadata": {},
     "output_type": "execute_result"
    }
   ],
   "source": [
    "\n",
    "top_saves = interactions[interactions['interaction_type']=='save_favorite'].groupby('content_id').size().reset_index(name='saves')\n",
    "top_saves = top_saves.merge(content_all, on='content_id').sort_values('saves', ascending=False).head(10)\n",
    "print(\"أكثر 10 محتويات حفظًا\")\n",
    "top_saves[['title','category','saves']]"
   ]
  },
  {
   "cell_type": "code",
   "execution_count": 90,
   "id": "60329a96",
   "metadata": {
    "collapsed": true
   },
   "outputs": [
    {
     "name": "stdout",
     "output_type": "stream",
     "text": [
      "أكثر 10 مستخدمين بتعليقات مسيئة\n"
     ]
    },
    {
     "data": {
      "text/html": [
       "<div>\n",
       "<style scoped>\n",
       "    .dataframe tbody tr th:only-of-type {\n",
       "        vertical-align: middle;\n",
       "    }\n",
       "\n",
       "    .dataframe tbody tr th {\n",
       "        vertical-align: top;\n",
       "    }\n",
       "\n",
       "    .dataframe thead th {\n",
       "        text-align: right;\n",
       "    }\n",
       "</style>\n",
       "<table border=\"1\" class=\"dataframe\">\n",
       "  <thead>\n",
       "    <tr style=\"text-align: right;\">\n",
       "      <th></th>\n",
       "      <th>username</th>\n",
       "      <th>abusive_comments</th>\n",
       "    </tr>\n",
       "  </thead>\n",
       "  <tbody>\n",
       "    <tr>\n",
       "      <th>1485</th>\n",
       "      <td>عمر الحربي</td>\n",
       "      <td>3</td>\n",
       "    </tr>\n",
       "    <tr>\n",
       "      <th>1670</th>\n",
       "      <td>سارة القحطاني</td>\n",
       "      <td>3</td>\n",
       "    </tr>\n",
       "    <tr>\n",
       "      <th>738</th>\n",
       "      <td>مريم الدوسري</td>\n",
       "      <td>3</td>\n",
       "    </tr>\n",
       "    <tr>\n",
       "      <th>1875</th>\n",
       "      <td>يوسف القحطاني</td>\n",
       "      <td>2</td>\n",
       "    </tr>\n",
       "    <tr>\n",
       "      <th>887</th>\n",
       "      <td>فاطمة المالكي</td>\n",
       "      <td>2</td>\n",
       "    </tr>\n",
       "    <tr>\n",
       "      <th>1453</th>\n",
       "      <td>سارة البلوي</td>\n",
       "      <td>2</td>\n",
       "    </tr>\n",
       "    <tr>\n",
       "      <th>112</th>\n",
       "      <td>ريم القحطاني</td>\n",
       "      <td>2</td>\n",
       "    </tr>\n",
       "    <tr>\n",
       "      <th>1800</th>\n",
       "      <td>عمر الدوسري</td>\n",
       "      <td>2</td>\n",
       "    </tr>\n",
       "    <tr>\n",
       "      <th>378</th>\n",
       "      <td>زينب الدوسري</td>\n",
       "      <td>2</td>\n",
       "    </tr>\n",
       "    <tr>\n",
       "      <th>1305</th>\n",
       "      <td>نور الجهني</td>\n",
       "      <td>2</td>\n",
       "    </tr>\n",
       "  </tbody>\n",
       "</table>\n",
       "</div>"
      ],
      "text/plain": [
       "           username  abusive_comments\n",
       "1485     عمر الحربي                 3\n",
       "1670  سارة القحطاني                 3\n",
       "738    مريم الدوسري                 3\n",
       "1875  يوسف القحطاني                 2\n",
       "887   فاطمة المالكي                 2\n",
       "1453    سارة البلوي                 2\n",
       "112    ريم القحطاني                 2\n",
       "1800    عمر الدوسري                 2\n",
       "378    زينب الدوسري                 2\n",
       "1305     نور الجهني                 2"
      ]
     },
     "execution_count": 90,
     "metadata": {},
     "output_type": "execute_result"
    }
   ],
   "source": [
    "abusive_by_user = comments[comments['is_abusive']==True].groupby('user_id').size().reset_index(name='abusive_comments')\n",
    "abusive_by_user = abusive_by_user.merge(users[['user_id','username']], on='user_id').sort_values('abusive_comments', ascending=False).head(10)\n",
    "print(\"أكثر 10 مستخدمين بتعليقات مسيئة\")\n",
    "abusive_by_user[['username','abusive_comments']]\n"
   ]
  },
  {
   "cell_type": "code",
   "execution_count": 91,
   "id": "95bb9cbc",
   "metadata": {
    "collapsed": true
   },
   "outputs": [
    {
     "data": {
      "image/png": "[encoded data removed]",
      "text/plain": [
       "<Figure size 432x288 with 1 Axes>"
      ]
     },
     "metadata": {
      "needs_background": "light"
     },
     "output_type": "display_data"
    }
   ],
   "source": [
    "plt.figure(figsize=(6,4))\n",
    "sns.countplot(data=interactions, x='interaction_type')\n",
    "plt.title(\"توزيع التفاعلات حسب النوع\")\n",
    "plt.ylabel(\"عدد التفاعلات\")\n",
    "plt.show()\n"
   ]
  },
  {
   "cell_type": "code",
   "execution_count": 100,
   "id": "8e93db50",
   "metadata": {},
   "outputs": [
    {
     "data": {
      "image/png": "[encoded data removed]",
      "text/plain": [
       "<Figure size 720x360 with 1 Axes>"
      ]
     },
     "metadata": {
      "needs_background": "light"
     },
     "output_type": "display_data"
    }
   ],
   "source": [
    "plt.figure(figsize=(10,5))\n",
    "sns.barplot(data=top_users, x='username', y='total_interactions', palette='viridis')\n",
    "plt.xticks(rotation=45)\n",
    "plt.title(\"أكثر 10 مستخدمين تفاعلًا\", fontsize=14)\n",
    "plt.ylabel(\"عدد التفاعلات\")\n",
    "plt.xlabel(\"اسم المستخدم\")\n",
    "plt.tight_layout()\n",
    "plt.show()"
   ]
  },
  {
   "cell_type": "code",
   "execution_count": 101,
   "id": "d27c604f",
   "metadata": {},
   "outputs": [
    {
     "data": {
      "image/png": "[encoded data removed]",
      "text/plain": [
       "<Figure size 720x360 with 1 Axes>"
      ]
     },
     "metadata": {
      "needs_background": "light"
     },
     "output_type": "display_data"
    }
   ],
   "source": [
    "plt.figure(figsize=(10,5))\n",
    "sns.barplot(data=top_likes, x='title', y='likes', palette='magma')\n",
    "plt.xticks(rotation=45, ha='right')\n",
    "plt.title(\"أكثر 10 محتويات إعجابًا\", fontsize=14)\n",
    "plt.ylabel(\"عدد الإعجابات\")\n",
    "plt.xlabel(\"عنوان المحتوى\")\n",
    "plt.tight_layout()\n",
    "plt.show()\n"
   ]
  },
  {
   "cell_type": "code",
   "execution_count": 102,
   "id": "fc5dcce8",
   "metadata": {},
   "outputs": [
    {
     "data": {
      "image/png": "[encoded data removed]",
      "text/plain": [
       "<Figure size 432x288 with 1 Axes>"
      ]
     },
     "metadata": {
      "needs_background": "light"
     },
     "output_type": "display_data"
    }
   ],
   "source": [
    "plt.figure(figsize=(6,4))\n",
    "sns.barplot(data=content_counts, x='نوع المحتوى', y='العدد', palette='pastel')\n",
    "plt.title(\"عدد المقالات والأخبار\", fontsize=14)\n",
    "plt.ylabel(\"العدد\")\n",
    "plt.xlabel(\"نوع المحتوى\")\n",
    "plt.tight_layout()\n",
    "plt.show()\n"
   ]
  },
  {
   "cell_type": "code",
   "execution_count": 104,
   "id": "852a98a3",
   "metadata": {},
   "outputs": [
    {
     "data": {
      "image/png": "[encoded data removed]",
      "text/plain": [
       "<Figure size 720x432 with 1 Axes>"
      ]
     },
     "metadata": {
      "needs_background": "light"
     },
     "output_type": "display_data"
    }
   ],
   "source": [
    "plt.figure(figsize=(10,6))\n",
    "sns.set_style(\"whitegrid\")\n",
    "sns.barplot(data=top_users, y='username', x='total_interactions', palette=\"coolwarm\")\n",
    "plt.title(\"أكثر 10 مستخدمين تفاعلًا\", fontsize=16)\n",
    "plt.xlabel(\"عدد التفاعلات\")\n",
    "plt.ylabel(\"اسم المستخدم\")\n",
    "plt.tight_layout()\n",
    "plt.show()\n"
   ]
  },
  {
   "cell_type": "code",
   "execution_count": 105,
   "id": "15a4c96c",
   "metadata": {},
   "outputs": [
    {
     "data": {
      "image/png": "[encoded data removed]",
      "text/plain": [
       "<Figure size 576x576 with 1 Axes>"
      ]
     },
     "metadata": {},
     "output_type": "display_data"
    }
   ],
   "source": [
    "plt.figure(figsize=(8,8))\n",
    "plt.pie(top_likes['likes'], labels=top_likes['title'], autopct='%1.1f%%', startangle=140, colors=sns.color_palette(\"magma\", len(top_likes)))\n",
    "plt.title(\"أكثر 10 محتويات إعجابًا\", fontsize=16)\n",
    "plt.tight_layout()\n",
    "plt.show()\n"
   ]
  },
  {
   "cell_type": "code",
   "execution_count": 106,
   "id": "325b5871",
   "metadata": {},
   "outputs": [
    {
     "data": {
      "image/png": "[encoded data removed]",
      "text/plain": [
       "<Figure size 432x432 with 1 Axes>"
      ]
     },
     "metadata": {},
     "output_type": "display_data"
    }
   ],
   "source": [
    "plt.figure(figsize=(6,6))\n",
    "plt.pie(content_counts['العدد'], labels=content_counts['نوع المحتوى'], autopct='%1.1f%%', startangle=90, colors=sns.color_palette(\"pastel\"))\n",
    "plt.title(\"عدد المقالات والأخبار\", fontsize=16)\n",
    "plt.tight_layout()\n",
    "plt.show()\n"
   ]
  },
  {
   "cell_type": "code",
   "execution_count": null,
   "id": "84ed55b2",
   "metadata": {},
   "outputs": [],
   "source": []
  }
 ],
 "metadata": {
  "kernelspec": {
   "display_name": "Python 3 (ipykernel)",
   "language": "python",
   "name": "python3"
  },
  "language_info": {
   "codemirror_mode": {
    "name": "ipython",
    "version": 3
   },
   "file_extension": ".py",
   "mimetype": "text/x-python",
   "name": "python",
   "nbconvert_exporter": "python",
   "pygments_lexer": "ipython3",
   "version": "3.9.7"
  }
 },
 "nbformat": 4,
 "nbformat_minor": 5
}
